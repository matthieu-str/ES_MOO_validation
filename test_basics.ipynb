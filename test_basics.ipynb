{
 "cells": [
  {
   "cell_type": "markdown",
   "source": [
    "# Comparing results between AB and our own code without separating use and construction"
   ],
   "metadata": {
    "collapsed": false
   }
  },
  {
   "cell_type": "code",
   "execution_count": 1,
   "outputs": [],
   "source": [
    "import pandas as pd\n",
    "import numpy as np"
   ],
   "metadata": {
    "collapsed": false
   }
  },
  {
   "cell_type": "code",
   "execution_count": 2,
   "outputs": [],
   "source": [
    "# Results from AB\n",
    "wind_ab = pd.read_csv(\"../ES_MOO_validation/AB_results/WT-2-MW_LCIA-results.csv\")"
   ],
   "metadata": {
    "collapsed": false
   }
  },
  {
   "cell_type": "code",
   "execution_count": 3,
   "outputs": [],
   "source": [
    "from func import *"
   ],
   "metadata": {
    "collapsed": false
   }
  },
  {
   "cell_type": "code",
   "execution_count": 20,
   "outputs": [],
   "source": [
    "# Results from ecos_sep_constr_use\n",
    "R_long_tot_constr = pd.read_csv(r\"C:\\Users\\matth\\PycharmProjects\\energyscope_moo\\02_LCA\\results\\R_long_tot_constr.csv\")\n",
    "R_long_tot_use = pd.read_csv(r\"C:\\Users\\matth\\PycharmProjects\\energyscope_moo\\02_LCA\\results\\R_long_tot_use.csv\")\n",
    "midpoint_categories, endpoint_categories_HH, endpoint_categories_EQ = impact_categories(R_constr=R_long_tot_constr, R_use=R_long_tot_use)"
   ],
   "metadata": {
    "collapsed": false
   }
  },
  {
   "cell_type": "code",
   "execution_count": 21,
   "outputs": [],
   "source": [
    "run pickle_reader_function.py"
   ],
   "metadata": {
    "collapsed": false
   }
  },
  {
   "cell_type": "code",
   "execution_count": 22,
   "outputs": [],
   "source": [
    "def plot_comparison_bis(df_comparison, save):\n",
    "    plt.rcParams[\"axes.axisbelow\"] = False\n",
    "    plt.bar(x = np.linspace(0, df_comparison.shape[0], df_comparison.shape[0]),\n",
    "            height=100*df_comparison.rel_error, tick_label = list(df_comparison[\"Impact category\"]), alpha=0.50)\n",
    "    plt.ylabel(\"Relative error [%]\")\n",
    "    plt.grid(visible=False)\n",
    "    plt.xticks(rotation=90, va=\"bottom\")\n",
    "    plt.tick_params(axis=\"x\",direction=\"in\", pad=-10)\n",
    "    if save:\n",
    "        df_name = get_df_name(df=df_comparison)\n",
    "        plt.savefig(f\"pics/{df_name}.pdf\", format=\"pdf\")\n",
    "    plt.show()"
   ],
   "metadata": {
    "collapsed": false
   }
  },
  {
   "cell_type": "code",
   "execution_count": 23,
   "outputs": [],
   "source": [
    "eco = read_pickle_file(r'C:\\Users\\matth\\PycharmProjects\\energyscope_moo\\02_LCA\\dataframes\\ecospold2matrix\\ecoinvent3.8.cut-offPandas_symmNorm_MA.gz.pickle')"
   ],
   "metadata": {
    "collapsed": false
   }
  },
  {
   "cell_type": "code",
   "execution_count": 24,
   "outputs": [
    {
     "data": {
      "text/plain": "index                                               2565980c-9db0-480c-85c2-08a51f35390f_3f6dada9-2497-4e1c-9e1b-eabafa6920f8  \\\nindex                                                                                                                           \n2565980c-9db0-480c-85c2-08a51f35390f_3f6dada9-2...                                                0.0                           \n447b52c3-fb20-495c-ade2-2b79c8ac130e_3f6dada9-2...                                                0.0                           \nb6ffce87-425f-4fb5-9456-a22c1e677ec6_3f6dada9-2...                                                0.0                           \nb8a3ca13-9b30-4971-9809-bfe00449eb49_3f6dada9-2...                                                0.0                           \ne5760adb-d2f0-4baa-a85a-2b8473ebaf3d_3f6dada9-2...                                                0.0                           \n...                                                                                               ...                           \n310fd9fe-8ad2-4be7-90fa-f8a784920210_d13ae29b-7...                                                0.0                           \ne55ecdcd-1c17-4ef3-9012-79de81a33742_ed25f589-c...                                                0.0                           \nb9b49ac3-e5df-4570-b274-714780d5467a_101e55f2-2...                                                0.0                           \nb8f99db9-d2b9-44de-aad5-e6c6ea8ab784_451550a8-d...                                                0.0                           \n789596da-02d0-4d28-8901-8736aa1bb122_5d15df3e-f...                                                0.0                           \n\nindex                                               447b52c3-fb20-495c-ade2-2b79c8ac130e_3f6dada9-2497-4e1c-9e1b-eabafa6920f8  \\\nindex                                                                                                                           \n2565980c-9db0-480c-85c2-08a51f35390f_3f6dada9-2...                                                0.0                           \n447b52c3-fb20-495c-ade2-2b79c8ac130e_3f6dada9-2...                                                0.0                           \nb6ffce87-425f-4fb5-9456-a22c1e677ec6_3f6dada9-2...                                                0.0                           \nb8a3ca13-9b30-4971-9809-bfe00449eb49_3f6dada9-2...                                                0.0                           \ne5760adb-d2f0-4baa-a85a-2b8473ebaf3d_3f6dada9-2...                                                0.0                           \n...                                                                                               ...                           \n310fd9fe-8ad2-4be7-90fa-f8a784920210_d13ae29b-7...                                                0.0                           \ne55ecdcd-1c17-4ef3-9012-79de81a33742_ed25f589-c...                                                0.0                           \nb9b49ac3-e5df-4570-b274-714780d5467a_101e55f2-2...                                                0.0                           \nb8f99db9-d2b9-44de-aad5-e6c6ea8ab784_451550a8-d...                                                0.0                           \n789596da-02d0-4d28-8901-8736aa1bb122_5d15df3e-f...                                                0.0                           \n\nindex                                               b6ffce87-425f-4fb5-9456-a22c1e677ec6_3f6dada9-2497-4e1c-9e1b-eabafa6920f8  \\\nindex                                                                                                                           \n2565980c-9db0-480c-85c2-08a51f35390f_3f6dada9-2...                                                0.0                           \n447b52c3-fb20-495c-ade2-2b79c8ac130e_3f6dada9-2...                                                0.0                           \nb6ffce87-425f-4fb5-9456-a22c1e677ec6_3f6dada9-2...                                                0.0                           \nb8a3ca13-9b30-4971-9809-bfe00449eb49_3f6dada9-2...                                                0.0                           \ne5760adb-d2f0-4baa-a85a-2b8473ebaf3d_3f6dada9-2...                                                0.0                           \n...                                                                                               ...                           \n310fd9fe-8ad2-4be7-90fa-f8a784920210_d13ae29b-7...                                                0.0                           \ne55ecdcd-1c17-4ef3-9012-79de81a33742_ed25f589-c...                                                0.0                           \nb9b49ac3-e5df-4570-b274-714780d5467a_101e55f2-2...                                                0.0                           \nb8f99db9-d2b9-44de-aad5-e6c6ea8ab784_451550a8-d...                                                0.0                           \n789596da-02d0-4d28-8901-8736aa1bb122_5d15df3e-f...                                                0.0                           \n\nindex                                               b8a3ca13-9b30-4971-9809-bfe00449eb49_3f6dada9-2497-4e1c-9e1b-eabafa6920f8  \\\nindex                                                                                                                           \n2565980c-9db0-480c-85c2-08a51f35390f_3f6dada9-2...                                                0.0                           \n447b52c3-fb20-495c-ade2-2b79c8ac130e_3f6dada9-2...                                                0.0                           \nb6ffce87-425f-4fb5-9456-a22c1e677ec6_3f6dada9-2...                                                0.0                           \nb8a3ca13-9b30-4971-9809-bfe00449eb49_3f6dada9-2...                                                0.0                           \ne5760adb-d2f0-4baa-a85a-2b8473ebaf3d_3f6dada9-2...                                                0.0                           \n...                                                                                               ...                           \n310fd9fe-8ad2-4be7-90fa-f8a784920210_d13ae29b-7...                                                0.0                           \ne55ecdcd-1c17-4ef3-9012-79de81a33742_ed25f589-c...                                                0.0                           \nb9b49ac3-e5df-4570-b274-714780d5467a_101e55f2-2...                                                0.0                           \nb8f99db9-d2b9-44de-aad5-e6c6ea8ab784_451550a8-d...                                                0.0                           \n789596da-02d0-4d28-8901-8736aa1bb122_5d15df3e-f...                                                0.0                           \n\nindex                                               e5760adb-d2f0-4baa-a85a-2b8473ebaf3d_3f6dada9-2497-4e1c-9e1b-eabafa6920f8  \\\nindex                                                                                                                           \n2565980c-9db0-480c-85c2-08a51f35390f_3f6dada9-2...                                                0.0                           \n447b52c3-fb20-495c-ade2-2b79c8ac130e_3f6dada9-2...                                                0.0                           \nb6ffce87-425f-4fb5-9456-a22c1e677ec6_3f6dada9-2...                                                0.0                           \nb8a3ca13-9b30-4971-9809-bfe00449eb49_3f6dada9-2...                                                0.0                           \ne5760adb-d2f0-4baa-a85a-2b8473ebaf3d_3f6dada9-2...                                                0.0                           \n...                                                                                               ...                           \n310fd9fe-8ad2-4be7-90fa-f8a784920210_d13ae29b-7...                                                0.0                           \ne55ecdcd-1c17-4ef3-9012-79de81a33742_ed25f589-c...                                                0.0                           \nb9b49ac3-e5df-4570-b274-714780d5467a_101e55f2-2...                                                0.0                           \nb8f99db9-d2b9-44de-aad5-e6c6ea8ab784_451550a8-d...                                                0.0                           \n789596da-02d0-4d28-8901-8736aa1bb122_5d15df3e-f...                                                0.0                           \n\nindex                                               dfa5f12d-7f3c-4b98-ae94-cc56c6f70d89_a235b2ff-3237-44b0-a445-b852376a1939  \\\nindex                                                                                                                           \n2565980c-9db0-480c-85c2-08a51f35390f_3f6dada9-2...                                                0.0                           \n447b52c3-fb20-495c-ade2-2b79c8ac130e_3f6dada9-2...                                                0.0                           \nb6ffce87-425f-4fb5-9456-a22c1e677ec6_3f6dada9-2...                                                0.0                           \nb8a3ca13-9b30-4971-9809-bfe00449eb49_3f6dada9-2...                                                0.0                           \ne5760adb-d2f0-4baa-a85a-2b8473ebaf3d_3f6dada9-2...                                                0.0                           \n...                                                                                               ...                           \n310fd9fe-8ad2-4be7-90fa-f8a784920210_d13ae29b-7...                                                0.0                           \ne55ecdcd-1c17-4ef3-9012-79de81a33742_ed25f589-c...                                                0.0                           \nb9b49ac3-e5df-4570-b274-714780d5467a_101e55f2-2...                                                0.0                           \nb8f99db9-d2b9-44de-aad5-e6c6ea8ab784_451550a8-d...                                                0.0                           \n789596da-02d0-4d28-8901-8736aa1bb122_5d15df3e-f...                                                0.0                           \n\nindex                                               dfa5f12d-7f3c-4b98-ae94-cc56c6f70d89_d7f544d6-c372-4fc3-81ae-44aa3614c9fc  \\\nindex                                                                                                                           \n2565980c-9db0-480c-85c2-08a51f35390f_3f6dada9-2...                                                0.0                           \n447b52c3-fb20-495c-ade2-2b79c8ac130e_3f6dada9-2...                                                0.0                           \nb6ffce87-425f-4fb5-9456-a22c1e677ec6_3f6dada9-2...                                                0.0                           \nb8a3ca13-9b30-4971-9809-bfe00449eb49_3f6dada9-2...                                                0.0                           \ne5760adb-d2f0-4baa-a85a-2b8473ebaf3d_3f6dada9-2...                                                0.0                           \n...                                                                                               ...                           \n310fd9fe-8ad2-4be7-90fa-f8a784920210_d13ae29b-7...                                                0.0                           \ne55ecdcd-1c17-4ef3-9012-79de81a33742_ed25f589-c...                                                0.0                           \nb9b49ac3-e5df-4570-b274-714780d5467a_101e55f2-2...                                                0.0                           \nb8f99db9-d2b9-44de-aad5-e6c6ea8ab784_451550a8-d...                                                0.0                           \n789596da-02d0-4d28-8901-8736aa1bb122_5d15df3e-f...                                                0.0                           \n\nindex                                               af76617f-978e-426e-a13e-d38e599dcc80_a235b2ff-3237-44b0-a445-b852376a1939  \\\nindex                                                                                                                           \n2565980c-9db0-480c-85c2-08a51f35390f_3f6dada9-2...                                                0.0                           \n447b52c3-fb20-495c-ade2-2b79c8ac130e_3f6dada9-2...                                                0.0                           \nb6ffce87-425f-4fb5-9456-a22c1e677ec6_3f6dada9-2...                                                0.0                           \nb8a3ca13-9b30-4971-9809-bfe00449eb49_3f6dada9-2...                                                0.0                           \ne5760adb-d2f0-4baa-a85a-2b8473ebaf3d_3f6dada9-2...                                                0.0                           \n...                                                                                               ...                           \n310fd9fe-8ad2-4be7-90fa-f8a784920210_d13ae29b-7...                                                0.0                           \ne55ecdcd-1c17-4ef3-9012-79de81a33742_ed25f589-c...                                                0.0                           \nb9b49ac3-e5df-4570-b274-714780d5467a_101e55f2-2...                                                0.0                           \nb8f99db9-d2b9-44de-aad5-e6c6ea8ab784_451550a8-d...                                                0.0                           \n789596da-02d0-4d28-8901-8736aa1bb122_5d15df3e-f...                                                0.0                           \n\nindex                                               af76617f-978e-426e-a13e-d38e599dcc80_d7f544d6-c372-4fc3-81ae-44aa3614c9fc  \\\nindex                                                                                                                           \n2565980c-9db0-480c-85c2-08a51f35390f_3f6dada9-2...                                                0.0                           \n447b52c3-fb20-495c-ade2-2b79c8ac130e_3f6dada9-2...                                                0.0                           \nb6ffce87-425f-4fb5-9456-a22c1e677ec6_3f6dada9-2...                                                0.0                           \nb8a3ca13-9b30-4971-9809-bfe00449eb49_3f6dada9-2...                                                0.0                           \ne5760adb-d2f0-4baa-a85a-2b8473ebaf3d_3f6dada9-2...                                                0.0                           \n...                                                                                               ...                           \n310fd9fe-8ad2-4be7-90fa-f8a784920210_d13ae29b-7...                                                0.0                           \ne55ecdcd-1c17-4ef3-9012-79de81a33742_ed25f589-c...                                                0.0                           \nb9b49ac3-e5df-4570-b274-714780d5467a_101e55f2-2...                                                0.0                           \nb8f99db9-d2b9-44de-aad5-e6c6ea8ab784_451550a8-d...                                                0.0                           \n789596da-02d0-4d28-8901-8736aa1bb122_5d15df3e-f...                                                0.0                           \n\nindex                                               0de236c4-00c9-4d77-80e0-0aacbc359e08_692b4f7e-9e79-4f69-b22f-b66f68f2f9cc  \\\nindex                                                                                                                           \n2565980c-9db0-480c-85c2-08a51f35390f_3f6dada9-2...                                                0.0                           \n447b52c3-fb20-495c-ade2-2b79c8ac130e_3f6dada9-2...                                                0.0                           \nb6ffce87-425f-4fb5-9456-a22c1e677ec6_3f6dada9-2...                                                0.0                           \nb8a3ca13-9b30-4971-9809-bfe00449eb49_3f6dada9-2...                                                0.0                           \ne5760adb-d2f0-4baa-a85a-2b8473ebaf3d_3f6dada9-2...                                                0.0                           \n...                                                                                               ...                           \n310fd9fe-8ad2-4be7-90fa-f8a784920210_d13ae29b-7...                                                0.0                           \ne55ecdcd-1c17-4ef3-9012-79de81a33742_ed25f589-c...                                                0.0                           \nb9b49ac3-e5df-4570-b274-714780d5467a_101e55f2-2...                                                0.0                           \nb8f99db9-d2b9-44de-aad5-e6c6ea8ab784_451550a8-d...                                                0.0                           \n789596da-02d0-4d28-8901-8736aa1bb122_5d15df3e-f...                                                0.0                           \n\nindex                                               ...  \\\nindex                                               ...   \n2565980c-9db0-480c-85c2-08a51f35390f_3f6dada9-2...  ...   \n447b52c3-fb20-495c-ade2-2b79c8ac130e_3f6dada9-2...  ...   \nb6ffce87-425f-4fb5-9456-a22c1e677ec6_3f6dada9-2...  ...   \nb8a3ca13-9b30-4971-9809-bfe00449eb49_3f6dada9-2...  ...   \ne5760adb-d2f0-4baa-a85a-2b8473ebaf3d_3f6dada9-2...  ...   \n...                                                 ...   \n310fd9fe-8ad2-4be7-90fa-f8a784920210_d13ae29b-7...  ...   \ne55ecdcd-1c17-4ef3-9012-79de81a33742_ed25f589-c...  ...   \nb9b49ac3-e5df-4570-b274-714780d5467a_101e55f2-2...  ...   \nb8f99db9-d2b9-44de-aad5-e6c6ea8ab784_451550a8-d...  ...   \n789596da-02d0-4d28-8901-8736aa1bb122_5d15df3e-f...  ...   \n\nindex                                               a8384a9d-660e-4b3c-95bf-278505b53fd3_fd27af60-7b68-4549-bf35-022eacd74f93  \\\nindex                                                                                                                           \n2565980c-9db0-480c-85c2-08a51f35390f_3f6dada9-2...                                                0.0                           \n447b52c3-fb20-495c-ade2-2b79c8ac130e_3f6dada9-2...                                                0.0                           \nb6ffce87-425f-4fb5-9456-a22c1e677ec6_3f6dada9-2...                                                0.0                           \nb8a3ca13-9b30-4971-9809-bfe00449eb49_3f6dada9-2...                                                0.0                           \ne5760adb-d2f0-4baa-a85a-2b8473ebaf3d_3f6dada9-2...                                                0.0                           \n...                                                                                               ...                           \n310fd9fe-8ad2-4be7-90fa-f8a784920210_d13ae29b-7...                                                0.0                           \ne55ecdcd-1c17-4ef3-9012-79de81a33742_ed25f589-c...                                                0.0                           \nb9b49ac3-e5df-4570-b274-714780d5467a_101e55f2-2...                                                0.0                           \nb8f99db9-d2b9-44de-aad5-e6c6ea8ab784_451550a8-d...                                                0.0                           \n789596da-02d0-4d28-8901-8736aa1bb122_5d15df3e-f...                                                0.0                           \n\nindex                                               9210586d-b63c-4cd2-8539-81365d226883_ad38bbd2-e41c-4509-9dc3-c5c708a36606  \\\nindex                                                                                                                           \n2565980c-9db0-480c-85c2-08a51f35390f_3f6dada9-2...                                                0.0                           \n447b52c3-fb20-495c-ade2-2b79c8ac130e_3f6dada9-2...                                                0.0                           \nb6ffce87-425f-4fb5-9456-a22c1e677ec6_3f6dada9-2...                                                0.0                           \nb8a3ca13-9b30-4971-9809-bfe00449eb49_3f6dada9-2...                                                0.0                           \ne5760adb-d2f0-4baa-a85a-2b8473ebaf3d_3f6dada9-2...                                                0.0                           \n...                                                                                               ...                           \n310fd9fe-8ad2-4be7-90fa-f8a784920210_d13ae29b-7...                                                0.0                           \ne55ecdcd-1c17-4ef3-9012-79de81a33742_ed25f589-c...                                                0.0                           \nb9b49ac3-e5df-4570-b274-714780d5467a_101e55f2-2...                                                0.0                           \nb8f99db9-d2b9-44de-aad5-e6c6ea8ab784_451550a8-d...                                                0.0                           \n789596da-02d0-4d28-8901-8736aa1bb122_5d15df3e-f...                                                0.0                           \n\nindex                                               95c3d53f-defc-4107-947d-244c9a6d57ec_2cb0d6c6-349c-46fc-b31f-a036c847a267  \\\nindex                                                                                                                           \n2565980c-9db0-480c-85c2-08a51f35390f_3f6dada9-2...                                                0.0                           \n447b52c3-fb20-495c-ade2-2b79c8ac130e_3f6dada9-2...                                                0.0                           \nb6ffce87-425f-4fb5-9456-a22c1e677ec6_3f6dada9-2...                                                0.0                           \nb8a3ca13-9b30-4971-9809-bfe00449eb49_3f6dada9-2...                                                0.0                           \ne5760adb-d2f0-4baa-a85a-2b8473ebaf3d_3f6dada9-2...                                                0.0                           \n...                                                                                               ...                           \n310fd9fe-8ad2-4be7-90fa-f8a784920210_d13ae29b-7...                                                0.0                           \ne55ecdcd-1c17-4ef3-9012-79de81a33742_ed25f589-c...                                                0.0                           \nb9b49ac3-e5df-4570-b274-714780d5467a_101e55f2-2...                                                0.0                           \nb8f99db9-d2b9-44de-aad5-e6c6ea8ab784_451550a8-d...                                                0.0                           \n789596da-02d0-4d28-8901-8736aa1bb122_5d15df3e-f...                                                0.0                           \n\nindex                                               05c331cc-e200-4380-9d0a-d2cce6edb706_ce165995-6d94-44a8-ac3b-d5860c2c7fdb  \\\nindex                                                                                                                           \n2565980c-9db0-480c-85c2-08a51f35390f_3f6dada9-2...                                                0.0                           \n447b52c3-fb20-495c-ade2-2b79c8ac130e_3f6dada9-2...                                                0.0                           \nb6ffce87-425f-4fb5-9456-a22c1e677ec6_3f6dada9-2...                                                0.0                           \nb8a3ca13-9b30-4971-9809-bfe00449eb49_3f6dada9-2...                                                0.0                           \ne5760adb-d2f0-4baa-a85a-2b8473ebaf3d_3f6dada9-2...                                                0.0                           \n...                                                                                               ...                           \n310fd9fe-8ad2-4be7-90fa-f8a784920210_d13ae29b-7...                                                0.0                           \ne55ecdcd-1c17-4ef3-9012-79de81a33742_ed25f589-c...                                                0.0                           \nb9b49ac3-e5df-4570-b274-714780d5467a_101e55f2-2...                                                0.0                           \nb8f99db9-d2b9-44de-aad5-e6c6ea8ab784_451550a8-d...                                                0.0                           \n789596da-02d0-4d28-8901-8736aa1bb122_5d15df3e-f...                                                0.0                           \n\nindex                                               b6c373ca-6cc9-409e-880f-5860dd1c0961_b3184435-d00c-5713-823d-5ff6741bfbbc  \\\nindex                                                                                                                           \n2565980c-9db0-480c-85c2-08a51f35390f_3f6dada9-2...                                                0.0                           \n447b52c3-fb20-495c-ade2-2b79c8ac130e_3f6dada9-2...                                                0.0                           \nb6ffce87-425f-4fb5-9456-a22c1e677ec6_3f6dada9-2...                                                0.0                           \nb8a3ca13-9b30-4971-9809-bfe00449eb49_3f6dada9-2...                                                0.0                           \ne5760adb-d2f0-4baa-a85a-2b8473ebaf3d_3f6dada9-2...                                                0.0                           \n...                                                                                               ...                           \n310fd9fe-8ad2-4be7-90fa-f8a784920210_d13ae29b-7...                                                0.0                           \ne55ecdcd-1c17-4ef3-9012-79de81a33742_ed25f589-c...                                                0.0                           \nb9b49ac3-e5df-4570-b274-714780d5467a_101e55f2-2...                                                0.0                           \nb8f99db9-d2b9-44de-aad5-e6c6ea8ab784_451550a8-d...                                                0.0                           \n789596da-02d0-4d28-8901-8736aa1bb122_5d15df3e-f...                                                0.0                           \n\nindex                                               310fd9fe-8ad2-4be7-90fa-f8a784920210_d13ae29b-7d6a-55d2-8380-86343a80fed8  \\\nindex                                                                                                                           \n2565980c-9db0-480c-85c2-08a51f35390f_3f6dada9-2...                                                0.0                           \n447b52c3-fb20-495c-ade2-2b79c8ac130e_3f6dada9-2...                                                0.0                           \nb6ffce87-425f-4fb5-9456-a22c1e677ec6_3f6dada9-2...                                                0.0                           \nb8a3ca13-9b30-4971-9809-bfe00449eb49_3f6dada9-2...                                                0.0                           \ne5760adb-d2f0-4baa-a85a-2b8473ebaf3d_3f6dada9-2...                                                0.0                           \n...                                                                                               ...                           \n310fd9fe-8ad2-4be7-90fa-f8a784920210_d13ae29b-7...                                                0.0                           \ne55ecdcd-1c17-4ef3-9012-79de81a33742_ed25f589-c...                                                0.0                           \nb9b49ac3-e5df-4570-b274-714780d5467a_101e55f2-2...                                                0.0                           \nb8f99db9-d2b9-44de-aad5-e6c6ea8ab784_451550a8-d...                                                0.0                           \n789596da-02d0-4d28-8901-8736aa1bb122_5d15df3e-f...                                                0.0                           \n\nindex                                               e55ecdcd-1c17-4ef3-9012-79de81a33742_ed25f589-c6c8-56a7-a518-b01dd3e8a453  \\\nindex                                                                                                                           \n2565980c-9db0-480c-85c2-08a51f35390f_3f6dada9-2...                                                0.0                           \n447b52c3-fb20-495c-ade2-2b79c8ac130e_3f6dada9-2...                                                0.0                           \nb6ffce87-425f-4fb5-9456-a22c1e677ec6_3f6dada9-2...                                                0.0                           \nb8a3ca13-9b30-4971-9809-bfe00449eb49_3f6dada9-2...                                                0.0                           \ne5760adb-d2f0-4baa-a85a-2b8473ebaf3d_3f6dada9-2...                                                0.0                           \n...                                                                                               ...                           \n310fd9fe-8ad2-4be7-90fa-f8a784920210_d13ae29b-7...                                                0.0                           \ne55ecdcd-1c17-4ef3-9012-79de81a33742_ed25f589-c...                                                0.0                           \nb9b49ac3-e5df-4570-b274-714780d5467a_101e55f2-2...                                                0.0                           \nb8f99db9-d2b9-44de-aad5-e6c6ea8ab784_451550a8-d...                                                0.0                           \n789596da-02d0-4d28-8901-8736aa1bb122_5d15df3e-f...                                                0.0                           \n\nindex                                               b9b49ac3-e5df-4570-b274-714780d5467a_101e55f2-2da0-528b-96fd-21687e242c1c  \\\nindex                                                                                                                           \n2565980c-9db0-480c-85c2-08a51f35390f_3f6dada9-2...                                                0.0                           \n447b52c3-fb20-495c-ade2-2b79c8ac130e_3f6dada9-2...                                                0.0                           \nb6ffce87-425f-4fb5-9456-a22c1e677ec6_3f6dada9-2...                                                0.0                           \nb8a3ca13-9b30-4971-9809-bfe00449eb49_3f6dada9-2...                                                0.0                           \ne5760adb-d2f0-4baa-a85a-2b8473ebaf3d_3f6dada9-2...                                                0.0                           \n...                                                                                               ...                           \n310fd9fe-8ad2-4be7-90fa-f8a784920210_d13ae29b-7...                                                0.0                           \ne55ecdcd-1c17-4ef3-9012-79de81a33742_ed25f589-c...                                                0.0                           \nb9b49ac3-e5df-4570-b274-714780d5467a_101e55f2-2...                                                0.0                           \nb8f99db9-d2b9-44de-aad5-e6c6ea8ab784_451550a8-d...                                                0.0                           \n789596da-02d0-4d28-8901-8736aa1bb122_5d15df3e-f...                                                0.0                           \n\nindex                                               b8f99db9-d2b9-44de-aad5-e6c6ea8ab784_451550a8-d9e6-4396-9f9a-97e752111228  \\\nindex                                                                                                                           \n2565980c-9db0-480c-85c2-08a51f35390f_3f6dada9-2...                                                0.0                           \n447b52c3-fb20-495c-ade2-2b79c8ac130e_3f6dada9-2...                                                0.0                           \nb6ffce87-425f-4fb5-9456-a22c1e677ec6_3f6dada9-2...                                                0.0                           \nb8a3ca13-9b30-4971-9809-bfe00449eb49_3f6dada9-2...                                                0.0                           \ne5760adb-d2f0-4baa-a85a-2b8473ebaf3d_3f6dada9-2...                                                0.0                           \n...                                                                                               ...                           \n310fd9fe-8ad2-4be7-90fa-f8a784920210_d13ae29b-7...                                                0.0                           \ne55ecdcd-1c17-4ef3-9012-79de81a33742_ed25f589-c...                                                0.0                           \nb9b49ac3-e5df-4570-b274-714780d5467a_101e55f2-2...                                                0.0                           \nb8f99db9-d2b9-44de-aad5-e6c6ea8ab784_451550a8-d...                                                0.0                           \n789596da-02d0-4d28-8901-8736aa1bb122_5d15df3e-f...                                                0.0                           \n\nindex                                               789596da-02d0-4d28-8901-8736aa1bb122_5d15df3e-fa54-45d5-85c6-5e3f5b89b20e  \nindex                                                                                                                          \n2565980c-9db0-480c-85c2-08a51f35390f_3f6dada9-2...                                                0.0                          \n447b52c3-fb20-495c-ade2-2b79c8ac130e_3f6dada9-2...                                                0.0                          \nb6ffce87-425f-4fb5-9456-a22c1e677ec6_3f6dada9-2...                                                0.0                          \nb8a3ca13-9b30-4971-9809-bfe00449eb49_3f6dada9-2...                                                0.0                          \ne5760adb-d2f0-4baa-a85a-2b8473ebaf3d_3f6dada9-2...                                                0.0                          \n...                                                                                               ...                          \n310fd9fe-8ad2-4be7-90fa-f8a784920210_d13ae29b-7...                                                0.0                          \ne55ecdcd-1c17-4ef3-9012-79de81a33742_ed25f589-c...                                                0.0                          \nb9b49ac3-e5df-4570-b274-714780d5467a_101e55f2-2...                                                0.0                          \nb8f99db9-d2b9-44de-aad5-e6c6ea8ab784_451550a8-d...                                                0.0                          \n789596da-02d0-4d28-8901-8736aa1bb122_5d15df3e-f...                                                0.0                          \n\n[19565 rows x 19565 columns]",
      "text/html": "<div>\n<style scoped>\n    .dataframe tbody tr th:only-of-type {\n        vertical-align: middle;\n    }\n\n    .dataframe tbody tr th {\n        vertical-align: top;\n    }\n\n    .dataframe thead th {\n        text-align: right;\n    }\n</style>\n<table border=\"1\" class=\"dataframe\">\n  <thead>\n    <tr style=\"text-align: right;\">\n      <th>index</th>\n      <th>2565980c-9db0-480c-85c2-08a51f35390f_3f6dada9-2497-4e1c-9e1b-eabafa6920f8</th>\n      <th>447b52c3-fb20-495c-ade2-2b79c8ac130e_3f6dada9-2497-4e1c-9e1b-eabafa6920f8</th>\n      <th>b6ffce87-425f-4fb5-9456-a22c1e677ec6_3f6dada9-2497-4e1c-9e1b-eabafa6920f8</th>\n      <th>b8a3ca13-9b30-4971-9809-bfe00449eb49_3f6dada9-2497-4e1c-9e1b-eabafa6920f8</th>\n      <th>e5760adb-d2f0-4baa-a85a-2b8473ebaf3d_3f6dada9-2497-4e1c-9e1b-eabafa6920f8</th>\n      <th>dfa5f12d-7f3c-4b98-ae94-cc56c6f70d89_a235b2ff-3237-44b0-a445-b852376a1939</th>\n      <th>dfa5f12d-7f3c-4b98-ae94-cc56c6f70d89_d7f544d6-c372-4fc3-81ae-44aa3614c9fc</th>\n      <th>af76617f-978e-426e-a13e-d38e599dcc80_a235b2ff-3237-44b0-a445-b852376a1939</th>\n      <th>af76617f-978e-426e-a13e-d38e599dcc80_d7f544d6-c372-4fc3-81ae-44aa3614c9fc</th>\n      <th>0de236c4-00c9-4d77-80e0-0aacbc359e08_692b4f7e-9e79-4f69-b22f-b66f68f2f9cc</th>\n      <th>...</th>\n      <th>a8384a9d-660e-4b3c-95bf-278505b53fd3_fd27af60-7b68-4549-bf35-022eacd74f93</th>\n      <th>9210586d-b63c-4cd2-8539-81365d226883_ad38bbd2-e41c-4509-9dc3-c5c708a36606</th>\n      <th>95c3d53f-defc-4107-947d-244c9a6d57ec_2cb0d6c6-349c-46fc-b31f-a036c847a267</th>\n      <th>05c331cc-e200-4380-9d0a-d2cce6edb706_ce165995-6d94-44a8-ac3b-d5860c2c7fdb</th>\n      <th>b6c373ca-6cc9-409e-880f-5860dd1c0961_b3184435-d00c-5713-823d-5ff6741bfbbc</th>\n      <th>310fd9fe-8ad2-4be7-90fa-f8a784920210_d13ae29b-7d6a-55d2-8380-86343a80fed8</th>\n      <th>e55ecdcd-1c17-4ef3-9012-79de81a33742_ed25f589-c6c8-56a7-a518-b01dd3e8a453</th>\n      <th>b9b49ac3-e5df-4570-b274-714780d5467a_101e55f2-2da0-528b-96fd-21687e242c1c</th>\n      <th>b8f99db9-d2b9-44de-aad5-e6c6ea8ab784_451550a8-d9e6-4396-9f9a-97e752111228</th>\n      <th>789596da-02d0-4d28-8901-8736aa1bb122_5d15df3e-fa54-45d5-85c6-5e3f5b89b20e</th>\n    </tr>\n    <tr>\n      <th>index</th>\n      <th></th>\n      <th></th>\n      <th></th>\n      <th></th>\n      <th></th>\n      <th></th>\n      <th></th>\n      <th></th>\n      <th></th>\n      <th></th>\n      <th></th>\n      <th></th>\n      <th></th>\n      <th></th>\n      <th></th>\n      <th></th>\n      <th></th>\n      <th></th>\n      <th></th>\n      <th></th>\n      <th></th>\n    </tr>\n  </thead>\n  <tbody>\n    <tr>\n      <th>2565980c-9db0-480c-85c2-08a51f35390f_3f6dada9-2497-4e1c-9e1b-eabafa6920f8</th>\n      <td>0.0</td>\n      <td>0.0</td>\n      <td>0.0</td>\n      <td>0.0</td>\n      <td>0.0</td>\n      <td>0.0</td>\n      <td>0.0</td>\n      <td>0.0</td>\n      <td>0.0</td>\n      <td>0.0</td>\n      <td>...</td>\n      <td>0.0</td>\n      <td>0.0</td>\n      <td>0.0</td>\n      <td>0.0</td>\n      <td>0.0</td>\n      <td>0.0</td>\n      <td>0.0</td>\n      <td>0.0</td>\n      <td>0.0</td>\n      <td>0.0</td>\n    </tr>\n    <tr>\n      <th>447b52c3-fb20-495c-ade2-2b79c8ac130e_3f6dada9-2497-4e1c-9e1b-eabafa6920f8</th>\n      <td>0.0</td>\n      <td>0.0</td>\n      <td>0.0</td>\n      <td>0.0</td>\n      <td>0.0</td>\n      <td>0.0</td>\n      <td>0.0</td>\n      <td>0.0</td>\n      <td>0.0</td>\n      <td>0.0</td>\n      <td>...</td>\n      <td>0.0</td>\n      <td>0.0</td>\n      <td>0.0</td>\n      <td>0.0</td>\n      <td>0.0</td>\n      <td>0.0</td>\n      <td>0.0</td>\n      <td>0.0</td>\n      <td>0.0</td>\n      <td>0.0</td>\n    </tr>\n    <tr>\n      <th>b6ffce87-425f-4fb5-9456-a22c1e677ec6_3f6dada9-2497-4e1c-9e1b-eabafa6920f8</th>\n      <td>0.0</td>\n      <td>0.0</td>\n      <td>0.0</td>\n      <td>0.0</td>\n      <td>0.0</td>\n      <td>0.0</td>\n      <td>0.0</td>\n      <td>0.0</td>\n      <td>0.0</td>\n      <td>0.0</td>\n      <td>...</td>\n      <td>0.0</td>\n      <td>0.0</td>\n      <td>0.0</td>\n      <td>0.0</td>\n      <td>0.0</td>\n      <td>0.0</td>\n      <td>0.0</td>\n      <td>0.0</td>\n      <td>0.0</td>\n      <td>0.0</td>\n    </tr>\n    <tr>\n      <th>b8a3ca13-9b30-4971-9809-bfe00449eb49_3f6dada9-2497-4e1c-9e1b-eabafa6920f8</th>\n      <td>0.0</td>\n      <td>0.0</td>\n      <td>0.0</td>\n      <td>0.0</td>\n      <td>0.0</td>\n      <td>0.0</td>\n      <td>0.0</td>\n      <td>0.0</td>\n      <td>0.0</td>\n      <td>0.0</td>\n      <td>...</td>\n      <td>0.0</td>\n      <td>0.0</td>\n      <td>0.0</td>\n      <td>0.0</td>\n      <td>0.0</td>\n      <td>0.0</td>\n      <td>0.0</td>\n      <td>0.0</td>\n      <td>0.0</td>\n      <td>0.0</td>\n    </tr>\n    <tr>\n      <th>e5760adb-d2f0-4baa-a85a-2b8473ebaf3d_3f6dada9-2497-4e1c-9e1b-eabafa6920f8</th>\n      <td>0.0</td>\n      <td>0.0</td>\n      <td>0.0</td>\n      <td>0.0</td>\n      <td>0.0</td>\n      <td>0.0</td>\n      <td>0.0</td>\n      <td>0.0</td>\n      <td>0.0</td>\n      <td>0.0</td>\n      <td>...</td>\n      <td>0.0</td>\n      <td>0.0</td>\n      <td>0.0</td>\n      <td>0.0</td>\n      <td>0.0</td>\n      <td>0.0</td>\n      <td>0.0</td>\n      <td>0.0</td>\n      <td>0.0</td>\n      <td>0.0</td>\n    </tr>\n    <tr>\n      <th>...</th>\n      <td>...</td>\n      <td>...</td>\n      <td>...</td>\n      <td>...</td>\n      <td>...</td>\n      <td>...</td>\n      <td>...</td>\n      <td>...</td>\n      <td>...</td>\n      <td>...</td>\n      <td>...</td>\n      <td>...</td>\n      <td>...</td>\n      <td>...</td>\n      <td>...</td>\n      <td>...</td>\n      <td>...</td>\n      <td>...</td>\n      <td>...</td>\n      <td>...</td>\n      <td>...</td>\n    </tr>\n    <tr>\n      <th>310fd9fe-8ad2-4be7-90fa-f8a784920210_d13ae29b-7d6a-55d2-8380-86343a80fed8</th>\n      <td>0.0</td>\n      <td>0.0</td>\n      <td>0.0</td>\n      <td>0.0</td>\n      <td>0.0</td>\n      <td>0.0</td>\n      <td>0.0</td>\n      <td>0.0</td>\n      <td>0.0</td>\n      <td>0.0</td>\n      <td>...</td>\n      <td>0.0</td>\n      <td>0.0</td>\n      <td>0.0</td>\n      <td>0.0</td>\n      <td>0.0</td>\n      <td>0.0</td>\n      <td>0.0</td>\n      <td>0.0</td>\n      <td>0.0</td>\n      <td>0.0</td>\n    </tr>\n    <tr>\n      <th>e55ecdcd-1c17-4ef3-9012-79de81a33742_ed25f589-c6c8-56a7-a518-b01dd3e8a453</th>\n      <td>0.0</td>\n      <td>0.0</td>\n      <td>0.0</td>\n      <td>0.0</td>\n      <td>0.0</td>\n      <td>0.0</td>\n      <td>0.0</td>\n      <td>0.0</td>\n      <td>0.0</td>\n      <td>0.0</td>\n      <td>...</td>\n      <td>0.0</td>\n      <td>0.0</td>\n      <td>0.0</td>\n      <td>0.0</td>\n      <td>0.0</td>\n      <td>0.0</td>\n      <td>0.0</td>\n      <td>0.0</td>\n      <td>0.0</td>\n      <td>0.0</td>\n    </tr>\n    <tr>\n      <th>b9b49ac3-e5df-4570-b274-714780d5467a_101e55f2-2da0-528b-96fd-21687e242c1c</th>\n      <td>0.0</td>\n      <td>0.0</td>\n      <td>0.0</td>\n      <td>0.0</td>\n      <td>0.0</td>\n      <td>0.0</td>\n      <td>0.0</td>\n      <td>0.0</td>\n      <td>0.0</td>\n      <td>0.0</td>\n      <td>...</td>\n      <td>0.0</td>\n      <td>0.0</td>\n      <td>0.0</td>\n      <td>0.0</td>\n      <td>0.0</td>\n      <td>0.0</td>\n      <td>0.0</td>\n      <td>0.0</td>\n      <td>0.0</td>\n      <td>0.0</td>\n    </tr>\n    <tr>\n      <th>b8f99db9-d2b9-44de-aad5-e6c6ea8ab784_451550a8-d9e6-4396-9f9a-97e752111228</th>\n      <td>0.0</td>\n      <td>0.0</td>\n      <td>0.0</td>\n      <td>0.0</td>\n      <td>0.0</td>\n      <td>0.0</td>\n      <td>0.0</td>\n      <td>0.0</td>\n      <td>0.0</td>\n      <td>0.0</td>\n      <td>...</td>\n      <td>0.0</td>\n      <td>0.0</td>\n      <td>0.0</td>\n      <td>0.0</td>\n      <td>0.0</td>\n      <td>0.0</td>\n      <td>0.0</td>\n      <td>0.0</td>\n      <td>0.0</td>\n      <td>0.0</td>\n    </tr>\n    <tr>\n      <th>789596da-02d0-4d28-8901-8736aa1bb122_5d15df3e-fa54-45d5-85c6-5e3f5b89b20e</th>\n      <td>0.0</td>\n      <td>0.0</td>\n      <td>0.0</td>\n      <td>0.0</td>\n      <td>0.0</td>\n      <td>0.0</td>\n      <td>0.0</td>\n      <td>0.0</td>\n      <td>0.0</td>\n      <td>0.0</td>\n      <td>...</td>\n      <td>0.0</td>\n      <td>0.0</td>\n      <td>0.0</td>\n      <td>0.0</td>\n      <td>0.0</td>\n      <td>0.0</td>\n      <td>0.0</td>\n      <td>0.0</td>\n      <td>0.0</td>\n      <td>0.0</td>\n    </tr>\n  </tbody>\n</table>\n<p>19565 rows × 19565 columns</p>\n</div>"
     },
     "metadata": {},
     "output_type": "display_data"
    }
   ],
   "source": [
    "eco_A = eco['A']\n",
    "eco_A = eco_A.fillna(0)\n",
    "display(eco_A)"
   ],
   "metadata": {
    "collapsed": false
   }
  },
  {
   "cell_type": "code",
   "execution_count": 25,
   "outputs": [],
   "source": [
    "I = np.identity(len(eco['A']))\n",
    "A_full =  I - eco_A"
   ],
   "metadata": {
    "collapsed": false
   }
  },
  {
   "cell_type": "code",
   "execution_count": 26,
   "outputs": [],
   "source": [
    "# IW+ file used by Justine, which probably has a few errors in it\n",
    "# C_IW = pd.read_excel(r'C:\\Users\\matth\\PycharmProjects\\energyscope_moo\\02_LCA\\dataframes\\impact_world_plus_2.0_ecoinvent_v38.xlsx')\n",
    "\n",
    "# New IW+ file given by Maxime (4/7/2023)\n",
    "C_IW = pd.read_excel(\"../ES_MOO_validation/dataframes/impact_world_plus_2.0_ecoinvent_v38_as_df.xlsx\")\n",
    "\n",
    "Impact_cat = C_IW['Impact category']\n",
    "C_IW = C_IW.set_index(['Impact category','CF unit'])"
   ],
   "metadata": {
    "collapsed": false
   }
  },
  {
   "cell_type": "code",
   "execution_count": 27,
   "outputs": [],
   "source": [
    "df_eco_pro = pd.DataFrame.from_dict(eco['PRO'])\n",
    "df_eco_pro = df_eco_pro[['activityName','geography','unitName']]\n",
    "\n",
    "F_full = eco['F']\n",
    "F_full = F_full.fillna(0)\n",
    "\n",
    "df_eco_str = pd.DataFrame.from_dict(eco['STR'])\n",
    "df_eco_str = df_eco_str[['id','name','comp','subcomp','unit']]"
   ],
   "metadata": {
    "collapsed": false
   }
  },
  {
   "cell_type": "code",
   "execution_count": null,
   "outputs": [],
   "source": [
    "import time\n",
    "start_time = time.time()\n",
    "A_full_inv = pd.DataFrame.from_dict(np.linalg.inv(A_full))\n",
    "#det = np.linalg.det(A_full_new)\n",
    "print(\"--- %s seconds ---\" % (time.time() - start_time))"
   ],
   "metadata": {
    "collapsed": false,
    "pycharm": {
     "is_executing": true
    }
   }
  },
  {
   "cell_type": "code",
   "execution_count": null,
   "outputs": [],
   "source": [
    "UUID_product_list = list(A_full.head(len(A_full)).index)\n",
    "\n",
    "A_full_inv.columns = UUID_product_list\n",
    "A_full_inv.index = UUID_product_list"
   ],
   "metadata": {
    "collapsed": false,
    "pycharm": {
     "is_executing": true
    }
   }
  },
  {
   "cell_type": "code",
   "execution_count": null,
   "outputs": [],
   "source": [
    "import time\n",
    "start_time = time.time()\n",
    "Em = F_full.dot(A_full_inv)\n",
    "print(\"--- %s seconds ---\" % (time.time() - start_time))"
   ],
   "metadata": {
    "collapsed": false,
    "pycharm": {
     "is_executing": true
    }
   }
  },
  {
   "cell_type": "code",
   "execution_count": null,
   "outputs": [],
   "source": [
    "R = C_IW.dot(Em)\n",
    "display(R)"
   ],
   "metadata": {
    "collapsed": false,
    "pycharm": {
     "is_executing": true
    }
   }
  },
  {
   "cell_type": "code",
   "execution_count": null,
   "outputs": [],
   "source": [
    "wind_id = df_eco_pro[df_eco_pro.activityName == \"wind turbine construction, 2MW, onshore\"].index[0]\n",
    "wind_impacts = R[wind_id]\n",
    "#display(wind_impacts)"
   ],
   "metadata": {
    "collapsed": false,
    "pycharm": {
     "is_executing": true
    }
   }
  },
  {
   "cell_type": "code",
   "execution_count": null,
   "outputs": [],
   "source": [
    "wind_direct_impacts = C_IW.dot(F_full[wind_id])"
   ],
   "metadata": {
    "collapsed": false,
    "pycharm": {
     "is_executing": true
    }
   }
  },
  {
   "cell_type": "code",
   "execution_count": null,
   "outputs": [],
   "source": [
    "display(wind_direct_impacts)"
   ],
   "metadata": {
    "collapsed": false,
    "pycharm": {
     "is_executing": true
    }
   }
  },
  {
   "cell_type": "code",
   "execution_count": null,
   "outputs": [],
   "source": [
    "wind_total_impacts = pd.DataFrame(wind_impacts + wind_direct_impacts)\n",
    "wind_impacts = pd.DataFrame(wind_impacts)\n",
    "display(wind_total_impacts)"
   ],
   "metadata": {
    "collapsed": false,
    "pycharm": {
     "is_executing": true
    }
   }
  },
  {
   "cell_type": "code",
   "execution_count": null,
   "outputs": [],
   "source": [
    "wind_total_impacts.reset_index(drop=False, inplace=True)\n",
    "wind_total_impacts.rename({0:\"es_moo\"}, inplace=True, axis=1)\n",
    "wind_impacts.reset_index(drop=False, inplace=True)\n",
    "wind_impacts.rename({wind_id:\"es_moo\"}, inplace=True, axis=1)\n",
    "display(wind_total_impacts)"
   ],
   "metadata": {
    "collapsed": false,
    "pycharm": {
     "is_executing": true
    }
   }
  },
  {
   "cell_type": "markdown",
   "source": [
    "## Midpoints with direct impacts"
   ],
   "metadata": {
    "collapsed": false
   }
  },
  {
   "cell_type": "code",
   "execution_count": null,
   "outputs": [],
   "source": [
    "method_midpoint = \"IMPACT World+ Midpoint 2.0 | Midpoint | \"\n",
    "ab_results = []\n",
    "for impact in midpoint_categories:\n",
    "    ab_results.append(wind_ab[f\"{method_midpoint}{impact}\"].iloc[0])\n",
    "wind_impacts_midpoints = wind_total_impacts.drop(wind_total_impacts[wind_total_impacts[\"CF unit\"].str.contains(\"PDF.m2.yr\") | wind_total_impacts[\"CF unit\"].str.contains(\"DALY\")].index)\n",
    "wind_impacts_midpoints[\"AB\"] = ab_results\n",
    "# Relative error = (measured value - expected value) / expected value\n",
    "wind_impacts_midpoints[\"rel_error\"] = (wind_impacts_midpoints.es_moo - wind_impacts_midpoints.AB) / wind_impacts_midpoints.AB"
   ],
   "metadata": {
    "collapsed": false,
    "pycharm": {
     "is_executing": true
    }
   }
  },
  {
   "cell_type": "code",
   "execution_count": null,
   "outputs": [],
   "source": [
    "display(wind_impacts_midpoints)"
   ],
   "metadata": {
    "collapsed": false,
    "pycharm": {
     "is_executing": true
    }
   }
  },
  {
   "cell_type": "markdown",
   "source": [
    "## Midpoints without direct impacts"
   ],
   "metadata": {
    "collapsed": false
   }
  },
  {
   "cell_type": "code",
   "execution_count": null,
   "outputs": [],
   "source": [
    "method_midpoint = \"IMPACT World+ Midpoint 2.0 | Midpoint | \"\n",
    "ab_results = []\n",
    "for impact in midpoint_categories:\n",
    "    ab_results.append(wind_ab[f\"{method_midpoint}{impact}\"].iloc[0])\n",
    "wind_impacts_midpoints_wo_direct = wind_impacts.drop(wind_impacts[wind_impacts[\"CF unit\"].str.contains(\"PDF.m2.yr\") | wind_impacts[\"CF unit\"].str.contains(\"DALY\")].index)\n",
    "wind_impacts_midpoints_wo_direct[\"AB\"] = ab_results\n",
    "# Relative error = (measured value - expected value) / expected value\n",
    "wind_impacts_midpoints_wo_direct[\"rel_error\"] = (wind_impacts_midpoints_wo_direct.es_moo - wind_impacts_midpoints_wo_direct.AB) / wind_impacts_midpoints_wo_direct.AB"
   ],
   "metadata": {
    "collapsed": false,
    "pycharm": {
     "is_executing": true
    }
   }
  },
  {
   "cell_type": "code",
   "execution_count": null,
   "outputs": [],
   "source": [
    "display(wind_impacts_midpoints_wo_direct)"
   ],
   "metadata": {
    "collapsed": false,
    "pycharm": {
     "is_executing": true
    }
   }
  },
  {
   "cell_type": "code",
   "execution_count": null,
   "outputs": [],
   "source": [
    "plot_comparison_bis(wind_impacts_midpoints, save=False)"
   ],
   "metadata": {
    "collapsed": false,
    "pycharm": {
     "is_executing": true
    }
   }
  },
  {
   "cell_type": "code",
   "execution_count": null,
   "outputs": [],
   "source": [
    "plot_comparison_bis(wind_impacts_midpoints_wo_direct, save=False)"
   ],
   "metadata": {
    "collapsed": false,
    "pycharm": {
     "is_executing": true
    }
   }
  },
  {
   "cell_type": "markdown",
   "source": [
    "## Finding where the problem comes from"
   ],
   "metadata": {
    "collapsed": false
   },
   "execution_count": 19
  },
  {
   "cell_type": "markdown",
   "source": [
    "### Elementary flows"
   ],
   "metadata": {
    "collapsed": false
   }
  },
  {
   "cell_type": "code",
   "execution_count": null,
   "outputs": [],
   "source": [
    "Em_wind = pd.DataFrame(Em[wind_id])\n",
    "Em_wind.index.rename(\"uuid\", inplace=True)\n",
    "Em_wind = Em_wind.loc[~(Em_wind==0).all(axis=1)]\n",
    "#display(Em_wind)"
   ],
   "metadata": {
    "collapsed": false,
    "pycharm": {
     "is_executing": true
    }
   }
  },
  {
   "cell_type": "code",
   "execution_count": null,
   "outputs": [],
   "source": [
    "Em_wind = pd.merge(left=df_eco_str, right=Em_wind, left_index=True, right_index=True)\n",
    "Em_wind.drop(labels='id', inplace=True, axis=1)\n",
    "Em_wind.rename(columns={wind_id:\"wind_ES_moo\"}, inplace=True)\n",
    "display(Em_wind)"
   ],
   "metadata": {
    "collapsed": false,
    "pycharm": {
     "is_executing": true
    }
   }
  },
  {
   "cell_type": "code",
   "execution_count": null,
   "outputs": [],
   "source": [
    "def replace_empty_str(x):\n",
    "    if x == \"\":\n",
    "        return \"unspecified\"\n",
    "    else:\n",
    "        return x"
   ],
   "metadata": {
    "collapsed": false,
    "pycharm": {
     "is_executing": true
    }
   }
  },
  {
   "cell_type": "code",
   "execution_count": null,
   "outputs": [],
   "source": [
    "wind_ab_inventory = pd.read_csv(\"../ES_MOO_validation/AB_results/WT-2-MW_Inventory.csv\")"
   ],
   "metadata": {
    "collapsed": false,
    "pycharm": {
     "is_executing": true
    }
   }
  },
  {
   "cell_type": "code",
   "execution_count": null,
   "outputs": [],
   "source": [
    "wind_ab_inventory[['comp', 'subcomp']] = wind_ab_inventory['categories'].str.split(',', 1, expand=True)\n",
    "wind_ab_inventory['comp'] = wind_ab_inventory['comp'].map(lambda x: x.lstrip(\"('\").rstrip(\"')\"))\n",
    "wind_ab_inventory['subcomp'] = wind_ab_inventory['subcomp'].map(lambda x: x.lstrip(\" '\").rstrip(\"')\"))\n",
    "wind_ab_inventory['subcomp'] = wind_ab_inventory['subcomp'].apply(lambda x: replace_empty_str(x))\n",
    "wind_ab_inventory.drop(labels=[\"Unnamed: 0\", \"categories\", \"type\", \"database\"], axis=1, inplace=True)\n",
    "wind_ab_inventory.rename(columns={\"wind turbine construction,\\n2MW, onshore | wind turbine,\\n2MW, onshore | GLO |\\necoinvent3.8 cut-off\":\"wind_ab\"}, inplace=True)\n",
    "display(wind_ab_inventory)"
   ],
   "metadata": {
    "collapsed": false,
    "pycharm": {
     "is_executing": true
    }
   }
  },
  {
   "cell_type": "code",
   "execution_count": null,
   "outputs": [],
   "source": [
    "Em_wind_full = pd.merge(left=Em_wind, right=wind_ab_inventory, on=[\"name\", \"comp\", \"subcomp\"], how=\"outer\")"
   ],
   "metadata": {
    "collapsed": false,
    "pycharm": {
     "is_executing": true
    }
   }
  },
  {
   "cell_type": "code",
   "execution_count": null,
   "outputs": [],
   "source": [
    "display(Em_wind_full)"
   ],
   "metadata": {
    "collapsed": false,
    "pycharm": {
     "is_executing": true
    }
   }
  },
  {
   "cell_type": "code",
   "execution_count": null,
   "outputs": [],
   "source": [
    "number_of_digits = 3 # number of significant digits to account for when comparing the results\n",
    "Em_wind_full.wind_ab = Em_wind_full.wind_ab.apply(lambda x: float(f'%.{number_of_digits}g' % x))\n",
    "Em_wind_full.wind_ES_moo = Em_wind_full.wind_ES_moo.apply(lambda x: float(f'%.{number_of_digits}g' % x))"
   ],
   "metadata": {
    "collapsed": false,
    "pycharm": {
     "is_executing": true
    }
   }
  },
  {
   "cell_type": "code",
   "execution_count": null,
   "outputs": [],
   "source": [
    "Em_wind_full_differences = Em_wind_full[Em_wind_full.wind_ES_moo != Em_wind_full.wind_ab]"
   ],
   "metadata": {
    "collapsed": false,
    "pycharm": {
     "is_executing": true
    }
   }
  },
  {
   "cell_type": "code",
   "execution_count": null,
   "outputs": [],
   "source": [
    "Em_wind_full_differences[\"rel_error\"] = (Em_wind_full_differences.wind_ES_moo - Em_wind_full_differences.wind_ab) / Em_wind_full_differences.wind_ab"
   ],
   "metadata": {
    "collapsed": false,
    "pycharm": {
     "is_executing": true
    }
   }
  },
  {
   "cell_type": "code",
   "execution_count": null,
   "outputs": [],
   "source": [
    "display(Em_wind_full_differences)"
   ],
   "metadata": {
    "collapsed": false,
    "pycharm": {
     "is_executing": true
    }
   }
  },
  {
   "cell_type": "code",
   "execution_count": null,
   "outputs": [],
   "source": [
    "Em_wind_full_differences[Em_wind_full_differences.name.str.contains(\"Transformation\")]"
   ],
   "metadata": {
    "collapsed": false,
    "pycharm": {
     "is_executing": true
    }
   }
  },
  {
   "cell_type": "markdown",
   "source": [
    "The flows with the term \"(non-use)\" are not important because their characterization factor will be zero in IW+. Here for instance there is an issue in row 937 (Transformation, from traffic area, road network) for which there is a -100 factor difference, and the characterization factor in IW+ is -1.0611. However, all ODGs are below 1e-8, so this does not explain the strong difference in Land Transformation results which ODG was 1000."
   ],
   "metadata": {
    "collapsed": false
   }
  },
  {
   "cell_type": "code",
   "execution_count": null,
   "outputs": [],
   "source": [
    "Em_wind_full[Em_wind_full.name.str.contains(\"Transformation\")]"
   ],
   "metadata": {
    "collapsed": false,
    "pycharm": {
     "is_executing": true
    }
   }
  },
  {
   "cell_type": "code",
   "execution_count": null,
   "outputs": [],
   "source": [
    "Em_wind_full_differences[Em_wind_full_differences.rel_error <= 0]"
   ],
   "metadata": {
    "collapsed": false,
    "pycharm": {
     "is_executing": true
    }
   }
  },
  {
   "cell_type": "code",
   "execution_count": null,
   "outputs": [],
   "source": [
    "Em_wind_full_differences.rel_error.min(), Em_wind_full_differences.rel_error.max()"
   ],
   "metadata": {
    "collapsed": false,
    "pycharm": {
     "is_executing": true
    }
   }
  },
  {
   "cell_type": "code",
   "execution_count": null,
   "outputs": [],
   "source": [
    "Em_wind_full_differences[Em_wind_full_differences.rel_error == Em_wind_full_differences.rel_error.max()]"
   ],
   "metadata": {
    "collapsed": false,
    "pycharm": {
     "is_executing": true
    }
   }
  },
  {
   "cell_type": "code",
   "execution_count": null,
   "outputs": [],
   "source": [
    "# Number of differences between ecospold2matrix and AB\n",
    "Em_wind_full_differences.shape[0]"
   ],
   "metadata": {
    "collapsed": false,
    "pycharm": {
     "is_executing": true
    }
   }
  },
  {
   "cell_type": "code",
   "execution_count": null,
   "outputs": [],
   "source": [
    "# Number of differences due to the fact that the flow is present in ecospold2matrix but absent in ab, the rest being a difference of values\n",
    "Em_wind_full_differences.wind_ab.isnull().sum()"
   ],
   "metadata": {
    "collapsed": false,
    "pycharm": {
     "is_executing": true
    }
   }
  },
  {
   "cell_type": "code",
   "execution_count": null,
   "outputs": [],
   "source": [
    "# All the flows present in ab are also present in ecospold2matrix\n",
    "Em_wind_full_differences.wind_ES_moo.isnull().sum()"
   ],
   "metadata": {
    "collapsed": false,
    "pycharm": {
     "is_executing": true
    }
   }
  },
  {
   "cell_type": "code",
   "execution_count": null,
   "outputs": [],
   "source": [
    "Em_wind.shape[0], wind_ab_inventory.shape[0]"
   ],
   "metadata": {
    "collapsed": false,
    "pycharm": {
     "is_executing": true
    }
   }
  },
  {
   "cell_type": "markdown",
   "source": [
    "### Characterization factors"
   ],
   "metadata": {
    "collapsed": false
   }
  },
  {
   "cell_type": "code",
   "execution_count": null,
   "outputs": [],
   "source": [
    "C_IW_AB = pd.read_excel(\"../ES_MOO_validation/AB_results/IW+ 2.0 Midpoint Land transformation, biodiversity.xlsx\")"
   ],
   "metadata": {
    "collapsed": false,
    "pycharm": {
     "is_executing": true
    }
   }
  },
  {
   "cell_type": "code",
   "execution_count": null,
   "outputs": [],
   "source": [
    "C_IW.reset_index(inplace=True)\n",
    "C_IW_LT = C_IW[((C_IW[\"Impact category\"] == \"Land transformation, biodiversity\") & (C_IW[\"CF unit\"] == \"m2 arable land eq\"))]\n",
    "C_IW_LT.drop(columns=[\"Impact category\", \"CF unit\"], inplace=True)\n",
    "C_IW_LT = C_IW_LT.transpose()\n",
    "C_IW_LT.rename({26:\"CF\"}, axis=1, inplace=True)"
   ],
   "metadata": {
    "collapsed": false,
    "pycharm": {
     "is_executing": true
    }
   }
  },
  {
   "cell_type": "code",
   "execution_count": null,
   "outputs": [],
   "source": [
    "C_IW_LT_non_zero = C_IW_LT[C_IW_LT.CF != 0.0]"
   ],
   "metadata": {
    "collapsed": false,
    "pycharm": {
     "is_executing": true
    }
   }
  },
  {
   "cell_type": "code",
   "execution_count": null,
   "outputs": [],
   "source": [
    "display(C_IW_LT_non_zero)"
   ],
   "metadata": {
    "collapsed": false,
    "pycharm": {
     "is_executing": true
    }
   }
  },
  {
   "cell_type": "code",
   "execution_count": null,
   "outputs": [],
   "source": [
    "C_IW_LT_wind = pd.merge(left=C_IW_LT_non_zero, right=Em_wind, left_index=True, right_index=True)"
   ],
   "metadata": {
    "collapsed": false,
    "pycharm": {
     "is_executing": true
    }
   }
  },
  {
   "cell_type": "code",
   "execution_count": null,
   "outputs": [],
   "source": [
    "C_IW_AB[['comp', 'subcomp']] = C_IW_AB['Category'].str.split(',', 1, expand=True)\n",
    "C_IW_AB['comp'] = C_IW_AB['comp'].map(lambda x: x.lstrip(\"('\").rstrip(\"')\"))\n",
    "C_IW_AB['subcomp'] = C_IW_AB['subcomp'].map(lambda x: x.lstrip(\" '\").rstrip(\"')\"))\n",
    "C_IW_AB['subcomp'] = C_IW_AB['subcomp'].apply(lambda x: replace_empty_str(x))"
   ],
   "metadata": {
    "collapsed": false,
    "pycharm": {
     "is_executing": true
    }
   }
  },
  {
   "cell_type": "code",
   "execution_count": null,
   "outputs": [],
   "source": [
    "C_IW_LT_wind = pd.merge(left=C_IW_LT_wind, right=C_IW_AB, left_on=[\"name\", \"comp\", \"subcomp\"], right_on=[\"Name\", \"comp\", \"subcomp\"])\n",
    "C_IW_LT_wind.drop(columns=[\"Name\", \"Category\", \"Unit\"], inplace=True)"
   ],
   "metadata": {
    "collapsed": false,
    "pycharm": {
     "is_executing": true
    }
   }
  },
  {
   "cell_type": "code",
   "execution_count": null,
   "outputs": [],
   "source": [
    "C_IW_LT_wind.rename({\"CF\":\"CF_moo\", \"Amount\":\"CF_AB\"}, axis=1, inplace=True)"
   ],
   "metadata": {
    "collapsed": false,
    "pycharm": {
     "is_executing": true
    }
   }
  },
  {
   "cell_type": "code",
   "execution_count": null,
   "outputs": [],
   "source": [
    "number_of_digits = 5 # number of significant digits to account for when comparing the results\n",
    "C_IW_LT_wind.CF_AB = C_IW_LT_wind.CF_AB.apply(lambda x: float(f'%.{number_of_digits}g' % x))\n",
    "C_IW_LT_wind.CF_moo = C_IW_LT_wind.CF_moo.apply(lambda x: float(f'%.{number_of_digits}g' % x))"
   ],
   "metadata": {
    "collapsed": false,
    "pycharm": {
     "is_executing": true
    }
   }
  },
  {
   "cell_type": "code",
   "execution_count": null,
   "outputs": [],
   "source": [
    "C_IW_LT_wind_diff = C_IW_LT_wind[C_IW_LT_wind.CF_moo != C_IW_LT_wind.CF_AB][[\"name\",\"CF_moo\", \"CF_AB\", \"wind_ES_moo\"]]"
   ],
   "metadata": {
    "collapsed": false,
    "pycharm": {
     "is_executing": true
    }
   }
  },
  {
   "cell_type": "code",
   "execution_count": null,
   "outputs": [],
   "source": [
    "display(Em_wind)"
   ],
   "metadata": {
    "collapsed": false,
    "pycharm": {
     "is_executing": true
    }
   }
  },
  {
   "cell_type": "code",
   "execution_count": null,
   "outputs": [],
   "source": [
    "display(C_IW_LT_wind_diff)"
   ],
   "metadata": {
    "collapsed": false,
    "pycharm": {
     "is_executing": true
    }
   }
  },
  {
   "cell_type": "code",
   "execution_count": null,
   "outputs": [],
   "source": [
    "(C_IW_LT_wind_diff.CF_moo * C_IW_LT_wind_diff.wind_ES_moo).sum() - (C_IW_LT_wind_diff.CF_AB * C_IW_LT_wind_diff.wind_ES_moo).sum()\n",
    "# keep index in previous merges to keep uuid information, then keep wind_AB in C_IW_LT_wind_diff to have a better estimation of the related error"
   ],
   "metadata": {
    "collapsed": false,
    "pycharm": {
     "is_executing": true
    }
   }
  },
  {
   "cell_type": "code",
   "execution_count": null,
   "outputs": [],
   "source": [
    "wind_impacts_midpoints_LT = wind_impacts_midpoints[wind_impacts_midpoints[\"Impact category\"] == \"Land transformation, biodiversity\"]\n",
    "(wind_impacts_midpoints_LT.es_moo - wind_impacts_midpoints_LT.AB).iloc[0]"
   ],
   "metadata": {
    "collapsed": false,
    "pycharm": {
     "is_executing": true
    }
   }
  },
  {
   "cell_type": "markdown",
   "source": [
    "# Brightway2"
   ],
   "metadata": {
    "collapsed": false
   },
   "execution_count": 44
  },
  {
   "cell_type": "code",
   "execution_count": 2,
   "outputs": [],
   "source": [
    "import bw2data as bd"
   ],
   "metadata": {
    "collapsed": false
   }
  },
  {
   "cell_type": "code",
   "execution_count": 3,
   "outputs": [],
   "source": [
    "bd.projects.set_current(\"ecoinvent3.8\")"
   ],
   "metadata": {
    "collapsed": false
   }
  },
  {
   "cell_type": "code",
   "execution_count": 4,
   "outputs": [],
   "source": [
    "ei = bd.Database(\"ecoinvent3.8 cut-off\")"
   ],
   "metadata": {
    "collapsed": false
   }
  },
  {
   "cell_type": "code",
   "execution_count": 7,
   "outputs": [],
   "source": [
    "# act is the wind turbine activity\n",
    "act = [i for i in ei.search('wind turbine construction, 2MW, onshore', limit=1000) if ('wind turbine construction, 2MW, onshore' == i.as_dict()['name'])][0]"
   ],
   "metadata": {
    "collapsed": false
   }
  },
  {
   "cell_type": "code",
   "execution_count": 8,
   "outputs": [
    {
     "data": {
      "text/plain": "'e8c67e95-01b4-4064-8d10-9d55f0eede8e_1692f537-b2ad-4143-bea3-226fc2fe9cf5.spold'"
     },
     "execution_count": 8,
     "metadata": {},
     "output_type": "execute_result"
    }
   ],
   "source": [
    "act[\"filename\"]"
   ],
   "metadata": {
    "collapsed": false
   }
  },
  {
   "cell_type": "code",
   "execution_count": null,
   "outputs": [],
   "source": [
    "# We can recover an activity from its uuid using brightway as follows\n",
    "[i for i in ei if (wind_id+\".spold\" == i[\"filename\"])]"
   ],
   "metadata": {
    "collapsed": false,
    "pycharm": {
     "is_executing": true
    }
   }
  },
  {
   "cell_type": "code",
   "execution_count": null,
   "outputs": [],
   "source": [
    "wind_id"
   ],
   "metadata": {
    "collapsed": false,
    "pycharm": {
     "is_executing": true
    }
   }
  },
  {
   "cell_type": "markdown",
   "source": [
    "## checking uuid and brightway key linkage"
   ],
   "metadata": {
    "collapsed": false
   }
  },
  {
   "cell_type": "code",
   "execution_count": 10,
   "outputs": [],
   "source": [
    "act = [i for i in ei.search('ammonia production, steam reforming, liquid', limit=1000) if (('ammonia production, steam reforming, liquid' == i.as_dict()['name']) & ('RoW' == i.as_dict()['location']))][0]"
   ],
   "metadata": {
    "collapsed": false
   }
  },
  {
   "cell_type": "code",
   "execution_count": 11,
   "outputs": [
    {
     "data": {
      "text/plain": "'6575150c1ebbda3ea0dd8061af890ff5'"
     },
     "execution_count": 11,
     "metadata": {},
     "output_type": "execute_result"
    }
   ],
   "source": [
    "# code\n",
    "act.as_dict()[\"code\"]"
   ],
   "metadata": {
    "collapsed": false
   }
  },
  {
   "cell_type": "code",
   "execution_count": 13,
   "outputs": [
    {
     "data": {
      "text/plain": "'c179556f-9183-4953-952a-ac322770d712_06b8d05b-e1e6-427b-929c-bb55e84e7c08.spold'"
     },
     "execution_count": 13,
     "metadata": {},
     "output_type": "execute_result"
    }
   ],
   "source": [
    "# uuid\n",
    "act.as_dict()[\"filename\"]"
   ],
   "metadata": {
    "collapsed": false
   }
  }
 ],
 "metadata": {
  "kernelspec": {
   "display_name": "Python 3",
   "language": "python",
   "name": "python3"
  },
  "language_info": {
   "codemirror_mode": {
    "name": "ipython",
    "version": 2
   },
   "file_extension": ".py",
   "mimetype": "text/x-python",
   "name": "python",
   "nbconvert_exporter": "python",
   "pygments_lexer": "ipython2",
   "version": "2.7.6"
  }
 },
 "nbformat": 4,
 "nbformat_minor": 0
}
